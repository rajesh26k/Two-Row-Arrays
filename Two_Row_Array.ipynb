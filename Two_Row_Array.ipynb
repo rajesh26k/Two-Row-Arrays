{
  "nbformat": 4,
  "nbformat_minor": 0,
  "metadata": {
    "colab": {
      "provenance": [],
      "authorship_tag": "ABX9TyOf2SEbwl72d/CBqxtYHEGc",
      "include_colab_link": true
    },
    "kernelspec": {
      "name": "python3",
      "display_name": "Python 3"
    },
    "language_info": {
      "name": "python"
    },
    "widgets": {
      "application/vnd.jupyter.widget-state+json": {
        "c5ab07b4743840039f53bcde146c8040": {
          "model_module": "@jupyter-widgets/controls",
          "model_name": "TextModel",
          "model_module_version": "1.5.0",
          "state": {
            "_dom_classes": [],
            "_model_module": "@jupyter-widgets/controls",
            "_model_module_version": "1.5.0",
            "_model_name": "TextModel",
            "_view_count": null,
            "_view_module": "@jupyter-widgets/controls",
            "_view_module_version": "1.5.0",
            "_view_name": "TextView",
            "continuous_update": true,
            "description": "Row 1:",
            "description_tooltip": null,
            "disabled": false,
            "layout": "IPY_MODEL_f95631e2188541e097bc5aecff103530",
            "placeholder": "​",
            "style": "IPY_MODEL_d43e8ab404854968ae32c0c1892ed8ca",
            "value": "2_4"
          }
        },
        "f95631e2188541e097bc5aecff103530": {
          "model_module": "@jupyter-widgets/base",
          "model_name": "LayoutModel",
          "model_module_version": "1.2.0",
          "state": {
            "_model_module": "@jupyter-widgets/base",
            "_model_module_version": "1.2.0",
            "_model_name": "LayoutModel",
            "_view_count": null,
            "_view_module": "@jupyter-widgets/base",
            "_view_module_version": "1.2.0",
            "_view_name": "LayoutView",
            "align_content": null,
            "align_items": null,
            "align_self": null,
            "border": null,
            "bottom": null,
            "display": null,
            "flex": null,
            "flex_flow": null,
            "grid_area": null,
            "grid_auto_columns": null,
            "grid_auto_flow": null,
            "grid_auto_rows": null,
            "grid_column": null,
            "grid_gap": null,
            "grid_row": null,
            "grid_template_areas": null,
            "grid_template_columns": null,
            "grid_template_rows": null,
            "height": null,
            "justify_content": null,
            "justify_items": null,
            "left": null,
            "margin": null,
            "max_height": null,
            "max_width": null,
            "min_height": null,
            "min_width": null,
            "object_fit": null,
            "object_position": null,
            "order": null,
            "overflow": null,
            "overflow_x": null,
            "overflow_y": null,
            "padding": null,
            "right": null,
            "top": null,
            "visibility": null,
            "width": null
          }
        },
        "d43e8ab404854968ae32c0c1892ed8ca": {
          "model_module": "@jupyter-widgets/controls",
          "model_name": "DescriptionStyleModel",
          "model_module_version": "1.5.0",
          "state": {
            "_model_module": "@jupyter-widgets/controls",
            "_model_module_version": "1.5.0",
            "_model_name": "DescriptionStyleModel",
            "_view_count": null,
            "_view_module": "@jupyter-widgets/base",
            "_view_module_version": "1.2.0",
            "_view_name": "StyleView",
            "description_width": ""
          }
        },
        "9e05e68169f54459bab83ef29784c28a": {
          "model_module": "@jupyter-widgets/controls",
          "model_name": "TextModel",
          "model_module_version": "1.5.0",
          "state": {
            "_dom_classes": [],
            "_model_module": "@jupyter-widgets/controls",
            "_model_module_version": "1.5.0",
            "_model_name": "TextModel",
            "_view_count": null,
            "_view_module": "@jupyter-widgets/controls",
            "_view_module_version": "1.5.0",
            "_view_name": "TextView",
            "continuous_update": true,
            "description": "Row 2:",
            "description_tooltip": null,
            "disabled": false,
            "layout": "IPY_MODEL_b8d7203260a44e97b8c00d565617e581",
            "placeholder": "​",
            "style": "IPY_MODEL_e085564917c54e96b5d1a48d8e7799fc",
            "value": "3_2"
          }
        },
        "b8d7203260a44e97b8c00d565617e581": {
          "model_module": "@jupyter-widgets/base",
          "model_name": "LayoutModel",
          "model_module_version": "1.2.0",
          "state": {
            "_model_module": "@jupyter-widgets/base",
            "_model_module_version": "1.2.0",
            "_model_name": "LayoutModel",
            "_view_count": null,
            "_view_module": "@jupyter-widgets/base",
            "_view_module_version": "1.2.0",
            "_view_name": "LayoutView",
            "align_content": null,
            "align_items": null,
            "align_self": null,
            "border": null,
            "bottom": null,
            "display": null,
            "flex": null,
            "flex_flow": null,
            "grid_area": null,
            "grid_auto_columns": null,
            "grid_auto_flow": null,
            "grid_auto_rows": null,
            "grid_column": null,
            "grid_gap": null,
            "grid_row": null,
            "grid_template_areas": null,
            "grid_template_columns": null,
            "grid_template_rows": null,
            "height": null,
            "justify_content": null,
            "justify_items": null,
            "left": null,
            "margin": null,
            "max_height": null,
            "max_width": null,
            "min_height": null,
            "min_width": null,
            "object_fit": null,
            "object_position": null,
            "order": null,
            "overflow": null,
            "overflow_x": null,
            "overflow_y": null,
            "padding": null,
            "right": null,
            "top": null,
            "visibility": null,
            "width": null
          }
        },
        "e085564917c54e96b5d1a48d8e7799fc": {
          "model_module": "@jupyter-widgets/controls",
          "model_name": "DescriptionStyleModel",
          "model_module_version": "1.5.0",
          "state": {
            "_model_module": "@jupyter-widgets/controls",
            "_model_module_version": "1.5.0",
            "_model_name": "DescriptionStyleModel",
            "_view_count": null,
            "_view_module": "@jupyter-widgets/base",
            "_view_module_version": "1.2.0",
            "_view_name": "StyleView",
            "description_width": ""
          }
        },
        "07b1001f7fa34cee9861d5403ea78b89": {
          "model_module": "@jupyter-widgets/controls",
          "model_name": "IntTextModel",
          "model_module_version": "1.5.0",
          "state": {
            "_dom_classes": [],
            "_model_module": "@jupyter-widgets/controls",
            "_model_module_version": "1.5.0",
            "_model_name": "IntTextModel",
            "_view_count": null,
            "_view_module": "@jupyter-widgets/controls",
            "_view_module_version": "1.5.0",
            "_view_name": "IntTextView",
            "continuous_update": false,
            "description": "Repeats:",
            "description_tooltip": null,
            "disabled": false,
            "layout": "IPY_MODEL_9d891925e61f4c8493fe99e84cf25d1b",
            "step": 1,
            "style": "IPY_MODEL_dfa19b66ffd743c2a5f627b67c77399a",
            "value": 10
          }
        },
        "9d891925e61f4c8493fe99e84cf25d1b": {
          "model_module": "@jupyter-widgets/base",
          "model_name": "LayoutModel",
          "model_module_version": "1.2.0",
          "state": {
            "_model_module": "@jupyter-widgets/base",
            "_model_module_version": "1.2.0",
            "_model_name": "LayoutModel",
            "_view_count": null,
            "_view_module": "@jupyter-widgets/base",
            "_view_module_version": "1.2.0",
            "_view_name": "LayoutView",
            "align_content": null,
            "align_items": null,
            "align_self": null,
            "border": null,
            "bottom": null,
            "display": null,
            "flex": null,
            "flex_flow": null,
            "grid_area": null,
            "grid_auto_columns": null,
            "grid_auto_flow": null,
            "grid_auto_rows": null,
            "grid_column": null,
            "grid_gap": null,
            "grid_row": null,
            "grid_template_areas": null,
            "grid_template_columns": null,
            "grid_template_rows": null,
            "height": null,
            "justify_content": null,
            "justify_items": null,
            "left": null,
            "margin": null,
            "max_height": null,
            "max_width": null,
            "min_height": null,
            "min_width": null,
            "object_fit": null,
            "object_position": null,
            "order": null,
            "overflow": null,
            "overflow_x": null,
            "overflow_y": null,
            "padding": null,
            "right": null,
            "top": null,
            "visibility": null,
            "width": null
          }
        },
        "dfa19b66ffd743c2a5f627b67c77399a": {
          "model_module": "@jupyter-widgets/controls",
          "model_name": "DescriptionStyleModel",
          "model_module_version": "1.5.0",
          "state": {
            "_model_module": "@jupyter-widgets/controls",
            "_model_module_version": "1.5.0",
            "_model_name": "DescriptionStyleModel",
            "_view_count": null,
            "_view_module": "@jupyter-widgets/base",
            "_view_module_version": "1.2.0",
            "_view_name": "StyleView",
            "description_width": ""
          }
        },
        "ce92ebba451b4aaaafe92eb756f42b5a": {
          "model_module": "@jupyter-widgets/controls",
          "model_name": "ButtonModel",
          "model_module_version": "1.5.0",
          "state": {
            "_dom_classes": [],
            "_model_module": "@jupyter-widgets/controls",
            "_model_module_version": "1.5.0",
            "_model_name": "ButtonModel",
            "_view_count": null,
            "_view_module": "@jupyter-widgets/controls",
            "_view_module_version": "1.5.0",
            "_view_name": "ButtonView",
            "button_style": "",
            "description": "Run ArrayMaker",
            "disabled": false,
            "icon": "",
            "layout": "IPY_MODEL_1ea3efac88bb4e97a804cf0593be1711",
            "style": "IPY_MODEL_f00d61150cd3441eb42d1d5854b24dda",
            "tooltip": ""
          }
        },
        "1ea3efac88bb4e97a804cf0593be1711": {
          "model_module": "@jupyter-widgets/base",
          "model_name": "LayoutModel",
          "model_module_version": "1.2.0",
          "state": {
            "_model_module": "@jupyter-widgets/base",
            "_model_module_version": "1.2.0",
            "_model_name": "LayoutModel",
            "_view_count": null,
            "_view_module": "@jupyter-widgets/base",
            "_view_module_version": "1.2.0",
            "_view_name": "LayoutView",
            "align_content": null,
            "align_items": null,
            "align_self": null,
            "border": null,
            "bottom": null,
            "display": null,
            "flex": null,
            "flex_flow": null,
            "grid_area": null,
            "grid_auto_columns": null,
            "grid_auto_flow": null,
            "grid_auto_rows": null,
            "grid_column": null,
            "grid_gap": null,
            "grid_row": null,
            "grid_template_areas": null,
            "grid_template_columns": null,
            "grid_template_rows": null,
            "height": null,
            "justify_content": null,
            "justify_items": null,
            "left": null,
            "margin": null,
            "max_height": null,
            "max_width": null,
            "min_height": null,
            "min_width": null,
            "object_fit": null,
            "object_position": null,
            "order": null,
            "overflow": null,
            "overflow_x": null,
            "overflow_y": null,
            "padding": null,
            "right": null,
            "top": null,
            "visibility": null,
            "width": null
          }
        },
        "f00d61150cd3441eb42d1d5854b24dda": {
          "model_module": "@jupyter-widgets/controls",
          "model_name": "ButtonStyleModel",
          "model_module_version": "1.5.0",
          "state": {
            "_model_module": "@jupyter-widgets/controls",
            "_model_module_version": "1.5.0",
            "_model_name": "ButtonStyleModel",
            "_view_count": null,
            "_view_module": "@jupyter-widgets/base",
            "_view_module_version": "1.2.0",
            "_view_name": "StyleView",
            "button_color": null,
            "font_weight": ""
          }
        },
        "dc1b475654fc4efcb4712bbd5eb3a75c": {
          "model_module": "@jupyter-widgets/output",
          "model_name": "OutputModel",
          "model_module_version": "1.0.0",
          "state": {
            "_dom_classes": [],
            "_model_module": "@jupyter-widgets/output",
            "_model_module_version": "1.0.0",
            "_model_name": "OutputModel",
            "_view_count": null,
            "_view_module": "@jupyter-widgets/output",
            "_view_module_version": "1.0.0",
            "_view_name": "OutputView",
            "layout": "IPY_MODEL_e024adf0b0354d369ea53775dbe3a05a",
            "msg_id": "",
            "outputs": [
              {
                "output_type": "stream",
                "name": "stdout",
                "text": [
                  "Output:\n",
                  "\n"
                ]
              },
              {
                "output_type": "stream",
                "name": "stdout",
                "text": [
                  "2 4 \n",
                  "3 2 \n",
                  "\n",
                  "2 3 4 \n",
                  "2 1 1 \n",
                  "\n",
                  "1 2 3 4 \n",
                  "2 2 1 1 \n",
                  "\n",
                  "1 2 3 4 \n",
                  "3 3 1 1 \n",
                  "\n",
                  "1 2 3 4 \n",
                  "3 1 3 1 \n",
                  "\n",
                  "1 2 3 4 \n",
                  "3 1 3 1 \n",
                  "\n",
                  "1 2 3 4 \n",
                  "3 1 3 1 \n",
                  "\n",
                  "1 2 3 4 \n",
                  "3 1 3 1 \n",
                  "\n",
                  "1 2 3 4 \n",
                  "3 1 3 1 \n",
                  "\n",
                  "1 2 3 4 \n",
                  "3 1 3 1 \n",
                  "\n",
                  "1 2 3 4 \n",
                  "3 1 3 1 \n",
                  "\n"
                ]
              }
            ]
          }
        },
        "e024adf0b0354d369ea53775dbe3a05a": {
          "model_module": "@jupyter-widgets/base",
          "model_name": "LayoutModel",
          "model_module_version": "1.2.0",
          "state": {
            "_model_module": "@jupyter-widgets/base",
            "_model_module_version": "1.2.0",
            "_model_name": "LayoutModel",
            "_view_count": null,
            "_view_module": "@jupyter-widgets/base",
            "_view_module_version": "1.2.0",
            "_view_name": "LayoutView",
            "align_content": null,
            "align_items": null,
            "align_self": null,
            "border": null,
            "bottom": null,
            "display": null,
            "flex": null,
            "flex_flow": null,
            "grid_area": null,
            "grid_auto_columns": null,
            "grid_auto_flow": null,
            "grid_auto_rows": null,
            "grid_column": null,
            "grid_gap": null,
            "grid_row": null,
            "grid_template_areas": null,
            "grid_template_columns": null,
            "grid_template_rows": null,
            "height": null,
            "justify_content": null,
            "justify_items": null,
            "left": null,
            "margin": null,
            "max_height": null,
            "max_width": null,
            "min_height": null,
            "min_width": null,
            "object_fit": null,
            "object_position": null,
            "order": null,
            "overflow": null,
            "overflow_x": null,
            "overflow_y": null,
            "padding": null,
            "right": null,
            "top": null,
            "visibility": null,
            "width": null
          }
        }
      }
    }
  },
  "cells": [
    {
      "cell_type": "markdown",
      "metadata": {
        "id": "view-in-github",
        "colab_type": "text"
      },
      "source": [
        "<a href=\"https://colab.research.google.com/github/rajesh26k/Two-Row-Arrays/blob/main/Two_Row_Array.ipynb\" target=\"_parent\"><img src=\"https://colab.research.google.com/assets/colab-badge.svg\" alt=\"Open In Colab\"/></a>"
      ]
    },
    {
      "cell_type": "code",
      "execution_count": null,
      "metadata": {
        "colab": {
          "base_uri": "https://localhost:8080/"
        },
        "id": "iobBzALhhc7K",
        "outputId": "bc5bc56e-2f41-4bcf-a2c9-eedaf84f21f4"
      },
      "outputs": [
        {
          "output_type": "stream",
          "name": "stdout",
          "text": [
            "Overwriting ArrayMaker.java\n"
          ]
        }
      ],
      "source": [
        "%%writefile ArrayMaker.java\n",
        "import java.util.*;\n",
        "import java.util.ArrayList;\n",
        "\n",
        "public class ArrayMaker\n",
        "{\n",
        "    private static ArrayList<Integer> List1;\n",
        "    private static ArrayList<Integer> List2;\n",
        "    private static ArrayList<Integer> Plist1;\n",
        "    private static ArrayList<Integer> Plist2;\n",
        "    private static int x;\n",
        "\n",
        "    public ArrayMaker(String Row1, String Row2)\n",
        "    {\n",
        "        List1 = new ArrayList<>();\n",
        "        List2 = new ArrayList<>();\n",
        "        Plist1 = new ArrayList<>();\n",
        "        Plist2 = new ArrayList<>();\n",
        "        String[] parts = Row1.split(\" \");\n",
        "\n",
        "        for (String part : parts)\n",
        "        {\n",
        "            if (!part.isEmpty())\n",
        "            {\n",
        "                List1.add(Integer.parseInt(part));\n",
        "            }\n",
        "        }\n",
        "        parts = Row2.split(\" \");\n",
        "        for (String part : parts)\n",
        "        {\n",
        "            if (!part.isEmpty())\n",
        "            {\n",
        "                List2.add(Integer.parseInt(part));\n",
        "            }\n",
        "        }\n",
        "    }\n",
        "\n",
        "    public void ArrayChange()\n",
        "    {\n",
        "        Plist1 = new ArrayList<>(List1);\n",
        "        boolean f = false;\n",
        "        int n = 0;\n",
        "            for (int i = 0; i < List2.size(); i++)\n",
        "            {\n",
        "                f = false;\n",
        "                for (int j = 0; j < Plist1.size(); j++ )\n",
        "                {\n",
        "                    if (Plist1.get(j) == List2.get(i))\n",
        "                    {\n",
        "                        f = true;\n",
        "                    }\n",
        "                }\n",
        "                n = 0;\n",
        "                if (!f)\n",
        "                {\n",
        "                    while ((n < Plist1.size()) && (Plist1.get(n) < List2.get(i)))\n",
        "                    {\n",
        "                        n++;\n",
        "                    }\n",
        "                    Plist1.add(n, List2.get(i));\n",
        "                }\n",
        "            }\n",
        "        for (int k = 0; k < Plist1.size(); k++)\n",
        "        {\n",
        "            n = 0;\n",
        "            for (int i = 0; i < List2.size(); i++)\n",
        "            {\n",
        "                if (Plist1.get(k).equals(List2.get(i)))\n",
        "                {\n",
        "                    n++;\n",
        "                }\n",
        "            }\n",
        "            for (int j = 0; j < List1.size(); j++)\n",
        "            {\n",
        "                if (Plist1.get(k).equals(List1.get(j)))\n",
        "                {\n",
        "                    n++;\n",
        "                }\n",
        "            }\n",
        "            Plist2.add(n);\n",
        "        }\n",
        "        List1 = new ArrayList<>(Plist1);\n",
        "        List2 = new ArrayList<>(Plist2);\n",
        "        Plist2 = new ArrayList<>();\n",
        "    }\n",
        "\n",
        "\n",
        "    public void print()\n",
        "    {\n",
        "        for (int j = 0; j < List1.size(); j++)\n",
        "        {\n",
        "            System.out.print(List1.get(j));\n",
        "            System.out.print(\" \");\n",
        "        }\n",
        "        System.out.println(\"\");\n",
        "        for (int i = 0; i < List2.size(); i++)\n",
        "        {\n",
        "            System.out.print(List2.get(i));\n",
        "            System.out.print(\" \");\n",
        "        }\n",
        "    }\n",
        "\n",
        "    public void Repeat(int repeats)\n",
        "    {\n",
        "        x = repeats;\n",
        "        int m = 0;\n",
        "        while (m < x)\n",
        "        {\n",
        "            ArrayChange();\n",
        "            print();\n",
        "            System.out.println(\"\");\n",
        "            System.out.println(\"\");\n",
        "            m++;\n",
        "        }\n",
        "    }\n",
        "\n",
        "    public static void main(String args[])\n",
        "    {\n",
        "        if (args.length < 3)\n",
        "        {\n",
        "          System.out.println(\"Usage: java ArrayMaker <Row1> <Row2> <Repetitions>\");\n",
        "          return;\n",
        "        }\n",
        "\n",
        "        String Row1 = args[0].replace(\"_\", \" \");\n",
        "        String Row2 = args[1].replace(\"_\", \" \");\n",
        "        int repetitions = Integer.parseInt(args[2]);\n",
        "\n",
        "        ArrayMaker m = new ArrayMaker(Row1, Row2);\n",
        "        m.print();\n",
        "        System.out.println(\"\");\n",
        "        System.out.println(\"\");\n",
        "        m.Repeat(repetitions);\n",
        "\n",
        "    }\n",
        "}\n"
      ]
    },
    {
      "cell_type": "code",
      "source": [
        "%%script bash\n",
        "javac ArrayMaker.java\n",
        "java ArrayMaker"
      ],
      "metadata": {
        "colab": {
          "base_uri": "https://localhost:8080/"
        },
        "id": "CsMfuU5Thhu5",
        "outputId": "b5482f8e-d1c6-4d71-b3a0-182a3c88d8fc"
      },
      "execution_count": null,
      "outputs": [
        {
          "output_type": "stream",
          "name": "stdout",
          "text": [
            "Usage: java ArrayMaker <Row1> <Row2> <Repetitions>\n"
          ]
        }
      ]
    },
    {
      "cell_type": "code",
      "source": [
        "import ipywidgets as widgets\n",
        "from IPython.display import display, clear_output\n",
        "\n",
        "row1_input = widgets.Text(value='2_4', description='Row 1:')\n",
        "row2_input = widgets.Text(value='3_2', description='Row 2:')\n",
        "reps_input = widgets.IntText(value=10, description='Repeats:')\n",
        "run_button = widgets.Button(description=\"Run ArrayMaker\")\n",
        "output = widgets.Output()\n",
        "\n",
        "def run_array_maker(_):\n",
        "    clear_output()\n",
        "    display(row1_input, row2_input, reps_input, run_button, output)\n",
        "\n",
        "    row1 = row1_input.value\n",
        "    row2 = row2_input.value\n",
        "    reps = reps_input.value\n",
        "\n",
        "    with output:\n",
        "        print(\"Output:\\n\")\n",
        "        !javac ArrayMaker.java\n",
        "        !java ArrayMaker {row1} {row2} {reps}\n",
        "\n",
        "run_button.on_click(run_array_maker)\n",
        "display(row1_input, row2_input, reps_input, run_button, output)\n"
      ],
      "metadata": {
        "colab": {
          "base_uri": "https://localhost:8080/",
          "height": 748,
          "referenced_widgets": [
            "c5ab07b4743840039f53bcde146c8040",
            "f95631e2188541e097bc5aecff103530",
            "d43e8ab404854968ae32c0c1892ed8ca",
            "9e05e68169f54459bab83ef29784c28a",
            "b8d7203260a44e97b8c00d565617e581",
            "e085564917c54e96b5d1a48d8e7799fc",
            "07b1001f7fa34cee9861d5403ea78b89",
            "9d891925e61f4c8493fe99e84cf25d1b",
            "dfa19b66ffd743c2a5f627b67c77399a",
            "ce92ebba451b4aaaafe92eb756f42b5a",
            "1ea3efac88bb4e97a804cf0593be1711",
            "f00d61150cd3441eb42d1d5854b24dda",
            "dc1b475654fc4efcb4712bbd5eb3a75c",
            "e024adf0b0354d369ea53775dbe3a05a"
          ]
        },
        "id": "hC6_F_irzjUQ",
        "outputId": "841afdee-6514-4b0d-96ff-9a4f1dfb2d2f"
      },
      "execution_count": null,
      "outputs": [
        {
          "output_type": "display_data",
          "data": {
            "text/plain": [
              "Text(value='2_4', description='Row 1:')"
            ],
            "application/vnd.jupyter.widget-view+json": {
              "version_major": 2,
              "version_minor": 0,
              "model_id": "c5ab07b4743840039f53bcde146c8040"
            }
          },
          "metadata": {}
        },
        {
          "output_type": "display_data",
          "data": {
            "text/plain": [
              "Text(value='3_2', description='Row 2:')"
            ],
            "application/vnd.jupyter.widget-view+json": {
              "version_major": 2,
              "version_minor": 0,
              "model_id": "9e05e68169f54459bab83ef29784c28a"
            }
          },
          "metadata": {}
        },
        {
          "output_type": "display_data",
          "data": {
            "text/plain": [
              "IntText(value=10, description='Repeats:')"
            ],
            "application/vnd.jupyter.widget-view+json": {
              "version_major": 2,
              "version_minor": 0,
              "model_id": "07b1001f7fa34cee9861d5403ea78b89"
            }
          },
          "metadata": {}
        },
        {
          "output_type": "display_data",
          "data": {
            "text/plain": [
              "Button(description='Run ArrayMaker', style=ButtonStyle())"
            ],
            "application/vnd.jupyter.widget-view+json": {
              "version_major": 2,
              "version_minor": 0,
              "model_id": "ce92ebba451b4aaaafe92eb756f42b5a"
            }
          },
          "metadata": {}
        },
        {
          "output_type": "display_data",
          "data": {
            "text/plain": [
              "Output()"
            ],
            "application/vnd.jupyter.widget-view+json": {
              "version_major": 2,
              "version_minor": 0,
              "model_id": "dc1b475654fc4efcb4712bbd5eb3a75c"
            }
          },
          "metadata": {}
        }
      ]
    }
  ]
}